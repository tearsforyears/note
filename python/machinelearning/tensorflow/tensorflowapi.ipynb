{
 "cells": [
  {
   "cell_type": "code",
   "execution_count": 2,
   "metadata": {},
   "outputs": [
    {
     "name": "stdout",
     "output_type": "stream",
     "text": [
      "3.6.5 |Anaconda, Inc.| (default, Mar 29 2018, 13:32:41) [MSC v.1900 64 bit (AMD64)]\n"
     ]
    }
   ],
   "source": [
    "import sys\n",
    "print(sys.version)"
   ]
  },
  {
   "cell_type": "code",
   "execution_count": 1,
   "metadata": {},
   "outputs": [
    {
     "data": {
      "text/plain": [
       "array([[0.17797543, 0.96576739, 0.62780723, 0.04305759, 0.56716636,\n",
       "        0.69213614, 0.17520922, 0.28752639],\n",
       "       [0.17115056, 0.30202827, 0.41131507, 0.89174861, 0.80878043,\n",
       "        0.29599695, 0.32608476, 0.43913895],\n",
       "       [0.61839619, 0.98007865, 0.13348115, 0.7121517 , 0.42393917,\n",
       "        0.81574113, 0.6146396 , 0.88549625],\n",
       "       [0.01925007, 0.41273772, 0.74111239, 0.22767255, 0.13532915,\n",
       "        0.4535145 , 0.82119504, 0.14570926],\n",
       "       [0.70501812, 0.46925062, 0.65656253, 0.49683537, 0.94203173,\n",
       "        0.05492132, 0.83204064, 0.17120449],\n",
       "       [0.06677192, 0.59338079, 0.0446071 , 0.98403534, 0.72625683,\n",
       "        0.61584149, 0.92134309, 0.75577109],\n",
       "       [0.41030234, 0.39485137, 0.66341805, 0.60991435, 0.35664068,\n",
       "        0.59544431, 0.25374636, 0.71039904],\n",
       "       [0.92788662, 0.96246144, 0.78024297, 0.11386883, 0.02922009,\n",
       "        0.67972307, 0.68269268, 0.41681076]])"
      ]
     },
     "execution_count": 1,
     "metadata": {},
     "output_type": "execute_result"
    }
   ],
   "source": []
  },
  {
   "cell_type": "code",
   "execution_count": 11,
   "metadata": {},
   "outputs": [
    {
     "name": "stdout",
     "output_type": "stream",
     "text": [
      "[0, 1, 2]\n",
      "[0, 2, 1]\n",
      "[1, 0, 2]\n",
      "[1, 2, 0]\n",
      "[2, 1, 0]\n",
      "[2, 0, 1]\n"
     ]
    }
   ],
   "source": [
    "def arrange(lis,cur):\n",
    "    if cur+1==len(lis):\n",
    "        print(lis)\n",
    "    for i in range(cur,len(lis)):\n",
    "        swap(lis,cur,i)\n",
    "        arrange(lis,cur+1)\n",
    "        swap(lis,cur,i)\n",
    "def swap(lis,a,b):\n",
    "    temp=lis[a]\n",
    "    lis[a]=lis[b]\n",
    "    lis[b]=temp\n",
    "arrange(list(range(3)),0)"
   ]
  },
  {
   "cell_type": "code",
   "execution_count": 41,
   "metadata": {},
   "outputs": [
    {
     "name": "stdout",
     "output_type": "stream",
     "text": [
      "b'hello tensorflow'\n",
      "time is 32.0897102355957 ms\n"
     ]
    }
   ],
   "source": [
    "#a hello world of tensorflow\n",
    "import tensorflow as tf\n",
    "import time\n",
    "tik=time.time()\n",
    "hello=tf.constant(value=\"hello tensorflow\")\n",
    "sess=tf.Session()\n",
    "print(sess.run(hello))\n",
    "sess.close()\n",
    "tok=time.time()\n",
    "print(\"time is\",(tok-tik)*1000,\"ms\")"
   ]
  },
  {
   "cell_type": "code",
   "execution_count": 3,
   "metadata": {},
   "outputs": [
    {
     "name": "stdout",
     "output_type": "stream",
     "text": [
      "tensorflow version\n",
      "w1: [[-0.8860047  -0.36807194 -0.43916655]\n",
      " [-0.07943188  0.14751324  0.01688445]]\n",
      "w2: [[ 2.3421693 ]\n",
      " [-1.5836248 ]\n",
      " [-0.21659724]]\n",
      "y [[-1.358989]]\n",
      "time is 4962.038278579712 ms\n",
      "numpy version\n",
      "w1 [[0.24134989 0.49091698 0.73448587]\n",
      " [0.62041357 0.84691238 0.77988768]]\n",
      "w2 [[0.6913827 ]\n",
      " [0.22295088]\n",
      " [0.50649472]]\n",
      "y [[1.36532497]]\n",
      "time is 2.0055770874023438 ms\n"
     ]
    }
   ],
   "source": [
    "#tensorflow 和 numpy 的对比\n",
    "import tensorflow as tf\n",
    "import numpy as np\n",
    "import time\n",
    "#tensorflow version\n",
    "tik=time.time()\n",
    "#liner modle of tensorflow\n",
    "w1=tf.Variable(tf.random_normal(shape=[2,3],stddev=1))\n",
    "w2=tf.Variable(tf.random_normal(shape=[3,1],stddev=1))\n",
    "x=tf.constant([[0.7,0.9]])\n",
    "a=tf.matmul(x,w1)\n",
    "y=tf.matmul(a,w2)\n",
    "sess=tf.Session()\n",
    "sess.run(w1.initializer)\n",
    "sess.run(w2.initializer)\n",
    "print(\"tensorflow version\")\n",
    "print(\"w1:\",sess.run(w1))\n",
    "print(\"w2:\",sess.run(w2))\n",
    "print(\"y\",sess.run(y))\n",
    "sess.close()\n",
    "tok=time.time()\n",
    "print(\"time is\",(tok-tik)*1000,\"ms\")\n",
    "\n",
    "#numpy version\n",
    "tik=time.time()\n",
    "x=np.asarray([[0.7,0.9]])\n",
    "w1=np.random.random([2,3])\n",
    "w2=np.random.random([3,1])\n",
    "print(\"numpy version\")\n",
    "print(\"w1\",w1)\n",
    "print(\"w2\",w2)\n",
    "a=np.dot(x,w1)\n",
    "y=np.dot(a,w2)\n",
    "print(\"y\",y)\n",
    "tok=time.time()\n",
    "print(\"time is\",(tok-tik)*1000,\"ms\")\n",
    "###注意tensorflow虽然是一个利用GPU的框架 但是因为数据传输等原因 在数据量不够多的时候性能表现并不如numpy"
   ]
  },
  {
   "cell_type": "code",
   "execution_count": 48,
   "metadata": {
    "collapsed": true
   },
   "outputs": [],
   "source": [
    "#placeholder的用法\n",
    "import tensorflow as tf\n",
    "k=tf.constant(3.0)\n",
    "b=tf.constant(5.0)\n",
    "y=tf.placeholder(dtype=\"float32\",shape=(1,100))\n",
    "y=k*x+b\n",
    "with tf.Session() as sess:\n",
    "    pass    \n",
    "#预定义没有出错"
   ]
  },
  {
   "cell_type": "code",
   "execution_count": 58,
   "metadata": {},
   "outputs": [
    {
     "name": "stdout",
     "output_type": "stream",
     "text": [
      "[[0.         0.02020204 0.04040402 0.06060606 0.0808081  0.10101008\n",
      "  0.12121212 0.14141417 0.16161615 0.18181819 0.20202023 0.22222221\n",
      "  0.24242425 0.2626263  0.28282827 0.3030303  0.32323235 0.34343433\n",
      "  0.36363637 0.38383836 0.4040404  0.42424244 0.44444442 0.46464646\n",
      "  0.4848485  0.50505054 0.5252525  0.5454545  0.56565654 0.5858586\n",
      "  0.6060606  0.62626266 0.64646465 0.6666666  0.68686867 0.7070707\n",
      "  0.72727275 0.7474748  0.7676768  0.78787875 0.8080808  0.82828283\n",
      "  0.8484849  0.86868685 0.8888889  0.9090909  0.9292929  0.94949496\n",
      "  0.969697   0.989899   1.010101   1.030303   1.050505   1.0707071\n",
      "  1.0909091  1.1111112  1.1313131  1.1515151  1.1717172  1.1919192\n",
      "  1.2121212  1.2323232  1.2525252  1.2727273  1.2929293  1.3131313\n",
      "  1.3333334  1.3535354  1.3737373  1.3939394  1.4141414  1.4343435\n",
      "  1.4545455  1.4747474  1.4949495  1.5151515  1.5353535  1.5555556\n",
      "  1.5757575  1.5959597  1.6161616  1.6363636  1.6565657  1.6767676\n",
      "  1.6969697  1.7171717  1.7373737  1.7575758  1.7777778  1.7979798\n",
      "  1.8181818  1.8383839  1.8585858  1.8787879  1.8989899  1.9191918\n",
      "  1.939394   1.9595959  1.979798   2.        ]]\n"
     ]
    }
   ],
   "source": [
    "#placeholder的用法\n",
    "import tensorflow as tf\n",
    "import numpy as np\n",
    "k=tf.constant(1.0)\n",
    "b=tf.constant(1.0)\n",
    "x=tf.placeholder(dtype=\"float32\",shape=(1,100))\n",
    "y=k*x+b\n",
    "with tf.Session() as sess:\n",
    "    print(sess.run(y,feed_dict={x:np.linspace(-1,1,100).reshape(1,100)}))\n",
    "#这个地方是模拟了生成直线 feed机制接受numpy数组\n",
    "#print(np.arange(10))"
   ]
  },
  {
   "cell_type": "code",
   "execution_count": 34,
   "metadata": {},
   "outputs": [
    {
     "name": "stdout",
     "output_type": "stream",
     "text": [
      "init the y and the x\n",
      "y= 402.0\n",
      "x= 8.0\n",
      "after a train\n",
      "y= 329.2567\n",
      "x= 7.517\n",
      "\n",
      "after 1000s train\n",
      "\n",
      "y= 10.000003\n",
      "x= 1.0014548\n",
      "\n",
      "after 2000s train\n",
      "\n",
      "y= 10.0\n",
      "x= 1.0000099\n",
      "it limited at the value x=1.000010 y=10.000000\n"
     ]
    }
   ],
   "source": [
    "# used tensorflow to let x to be limited\n",
    "# in this way we do not use the whole neturl network \n",
    "# we only used the optimizer\n",
    "import numpy as np\n",
    "import tensorflow as tf\n",
    "\n",
    "x = tf.Variable(8. ,dtype=\"float32\")\n",
    "y = x ** 3 - 2 * x ** 2 + x + 10\n",
    "with tf.Session() as sess:\n",
    "    sess.run(tf.global_variables_initializer())\n",
    "    train = tf.train.GradientDescentOptimizer(0.003).minimize(y)\n",
    "    print(\"init the y and the x\")\n",
    "    print(\"y=\", sess.run(y))\n",
    "    print(\"x=\", sess.run(x))\n",
    "\n",
    "    sess.run(train)\n",
    "    print(\"after a train\")\n",
    "    print(\"y=\", sess.run(y))\n",
    "    print(\"x=\", sess.run(x))\n",
    "\n",
    "    for i in range(1000):\n",
    "        sess.run(train)\n",
    "    print(\"\\nafter 1000s train\\n\")\n",
    "    print(\"y=\", sess.run(y))\n",
    "    print(\"x=\", sess.run(x))\n",
    "\n",
    "    for i in range(1000):\n",
    "        sess.run(train)\n",
    "    print(\"\\nafter 2000s train\\n\")\n",
    "    print(\"y=\", sess.run(y))\n",
    "    print(\"x=\", sess.run(x))\n",
    "\n",
    "    print(\"it limited at the value x=%f y=%f\" % (sess.run(x), sess.run(y)))"
   ]
  },
  {
   "cell_type": "code",
   "execution_count": 3,
   "metadata": {},
   "outputs": [
    {
     "name": "stdout",
     "output_type": "stream",
     "text": [
      "\n",
      "init time the values\n",
      "\n",
      "x= [[ 5.]\n",
      " [-6.]\n",
      " [ 7.]\n",
      " [-8.]]\n",
      "y= [[-1.59403259]\n",
      " [ 0.14099026]\n",
      " [ 0.95922634]]\n",
      "b= [[0.22449214]\n",
      " [0.34498743]\n",
      " [0.00342151]]\n",
      "\n",
      "after 1000 trains\n",
      "\n",
      "y= [[-176.5940409 ]\n",
      " [-174.85901806]\n",
      " [-174.04078198]]\n",
      "b= [[-0.77550791]\n",
      " [-0.65501262]\n",
      " [-0.99657854]]\n",
      "\n",
      "after 2000 trains\n",
      "\n",
      "y= [[-351.59404921]\n",
      " [-349.85902637]\n",
      " [-349.04079029]]\n",
      "b= [[-1.77550796]\n",
      " [-1.65501266]\n",
      " [-1.99657859]]\n",
      "\n",
      "after 10000 trains\n",
      "\n",
      "y= [[-2101.59413233]\n",
      " [-2099.85910949]\n",
      " [-2099.04087341]]\n",
      "b= [[-11.77550843]\n",
      " [-11.65501314]\n",
      " [-11.99657906]]\n",
      "\n",
      "after 20000 trains\n",
      "\n",
      "y= [[-3851.59421545]\n",
      " [-3849.85919261]\n",
      " [-3849.04095653]]\n",
      "b= [[-21.77550891]\n",
      " [-21.65501361]\n",
      " [-21.99657954]]\n"
     ]
    }
   ],
   "source": [
    "# used tensorflow to test place holder\n",
    "import numpy as np\n",
    "import tensorflow as tf\n",
    "\n",
    "x_value=np.array([5.,-6.,7.,-8.]).reshape(4,1)\n",
    "\n",
    "x=tf.placeholder(dtype=\"float64\",shape=(4,1))\n",
    "w=tf.Variable(np.random.rand(3,4))\n",
    "b=tf.Variable(np.random.rand(3,1))\n",
    "y=tf.matmul(w,x)+b\n",
    "\n",
    "init=tf.global_variables_initializer()\n",
    "with tf.Session() as sess:\n",
    "    sess.run(init)\n",
    "    print(\"\\ninit time the values\\n\")\n",
    "    print(\"x=\",sess.run(x,feed_dict={x:x_value}))\n",
    "    print(\"y=\",sess.run(y,feed_dict={x:x_value}))\n",
    "    print(\"b=\",sess.run(b))\n",
    "    train=tf.train.GradientDescentOptimizer(0.001).minimize(y)\n",
    "    \n",
    "    print(\"\\nafter 1000 trains\\n\")\n",
    "    for i in range(1000):\n",
    "        sess.run(train,feed_dict={x:x_value})\n",
    "    print(\"y=\",sess.run(y,feed_dict={x:x_value}))\n",
    "    print(\"b=\",sess.run(b))\n",
    "    \n",
    "    print(\"\\nafter 2000 trains\\n\")\n",
    "    for i in range(1000):\n",
    "        sess.run(train,feed_dict={x:x_value})\n",
    "    print(\"y=\",sess.run(y,feed_dict={x:x_value}))\n",
    "    print(\"b=\",sess.run(b))\n",
    "        \n",
    "    print(\"\\nafter 10000 trains\\n\")\n",
    "    for i in range(10000):\n",
    "        sess.run(train,feed_dict={x:x_value})\n",
    "    print(\"y=\",sess.run(y,feed_dict={x:x_value}))\n",
    "    print(\"b=\",sess.run(b))\n",
    "    \n",
    "    print(\"\\nafter 20000 trains\\n\")\n",
    "    for i in range(10000):\n",
    "        sess.run(train,feed_dict={x:x_value})\n",
    "    print(\"y=\",sess.run(y,feed_dict={x:x_value}))\n",
    "    print(\"b=\",sess.run(b))\n",
    "    #根据此我们可以分析 算法没有收敛 cost function选择出错\n",
    "    #此时如果用adam方法根本就不能用 请慎重选择"
   ]
  },
  {
   "cell_type": "code",
   "execution_count": 2,
   "metadata": {},
   "outputs": [
    {
     "name": "stdout",
     "output_type": "stream",
     "text": [
      "init the y and the x\n",
      "y= 402.0\n",
      "x= 8.0\n",
      "after a train\n",
      "y= 329.25662\n",
      "x= 7.517\n",
      "\n",
      "after 1000s train\n",
      "\n",
      "y= 10.000002\n",
      "x= 1.0014546\n",
      "\n",
      "after 2000s train\n",
      "\n",
      "y= 10.0\n",
      "x= 1.0000099\n",
      "it limited at the value x=1.000010 y=10.000000\n"
     ]
    }
   ],
   "source": [
    "# used tensorflow to let x to be limited\n",
    "# in this way we do not use the whole neturl network \n",
    "# we only used the optimizer\n",
    "import numpy as np\n",
    "import tensorflow as tf\n",
    "\n",
    "x = tf.Variable(8. ,dtype=\"float32\")\n",
    "y = x ** 3 - 2 * x ** 2 + x + 10\n",
    "with tf.Session() as sess:\n",
    "    sess.run(tf.global_variables_initializer())\n",
    "    train = tf.train.GradientDescentOptimizer(0.003).minimize(y)\n",
    "    print(\"init the y and the x\")\n",
    "    print(\"y=\", sess.run(y))\n",
    "    print(\"x=\", sess.run(x))\n",
    "\n",
    "    sess.run(train)\n",
    "    print(\"after a train\")\n",
    "    print(\"y=\", sess.run(y))\n",
    "    print(\"x=\", sess.run(x))\n",
    "\n",
    "    for i in range(1000):\n",
    "        sess.run(train)\n",
    "    print(\"\\nafter 1000s train\\n\")\n",
    "    print(\"y=\", sess.run(y))\n",
    "    print(\"x=\", sess.run(x))\n",
    "\n",
    "    for i in range(1000):\n",
    "        sess.run(train)\n",
    "    print(\"\\nafter 2000s train\\n\")\n",
    "    print(\"y=\", sess.run(y))\n",
    "    print(\"x=\", sess.run(x))\n",
    "\n",
    "    print(\"it limited at the value x=%f y=%f\" % (sess.run(x), sess.run(y)))"
   ]
  },
  {
   "cell_type": "code",
   "execution_count": null,
   "metadata": {
    "collapsed": true
   },
   "outputs": [],
   "source": []
  }
 ],
 "metadata": {
  "kernelspec": {
   "display_name": "Python [conda env:tensorflow]",
   "language": "python",
   "name": "conda-env-tensorflow-py"
  },
  "language_info": {
   "codemirror_mode": {
    "name": "ipython",
    "version": 3
   },
   "file_extension": ".py",
   "mimetype": "text/x-python",
   "name": "python",
   "nbconvert_exporter": "python",
   "pygments_lexer": "ipython3",
   "version": "3.6.5"
  }
 },
 "nbformat": 4,
 "nbformat_minor": 1
}
